{
 "cells": [
  {
   "cell_type": "markdown",
   "id": "9456b623",
   "metadata": {},
   "source": [
    "## TEST 1. INTRODUCTION TO STATISTICS. BASIC DATA MANIPULATION."
   ]
  },
  {
   "cell_type": "code",
   "execution_count": 1,
   "id": "54c9de87",
   "metadata": {},
   "outputs": [],
   "source": [
    "import pandas as pd"
   ]
  },
  {
   "cell_type": "code",
   "execution_count": 3,
   "id": "961dce82",
   "metadata": {},
   "outputs": [
    {
     "data": {
      "text/html": [
       "<div>\n",
       "<style scoped>\n",
       "    .dataframe tbody tr th:only-of-type {\n",
       "        vertical-align: middle;\n",
       "    }\n",
       "\n",
       "    .dataframe tbody tr th {\n",
       "        vertical-align: top;\n",
       "    }\n",
       "\n",
       "    .dataframe thead th {\n",
       "        text-align: right;\n",
       "    }\n",
       "</style>\n",
       "<table border=\"1\" class=\"dataframe\">\n",
       "  <thead>\n",
       "    <tr style=\"text-align: right;\">\n",
       "      <th></th>\n",
       "      <th>respondentID</th>\n",
       "      <th>seen</th>\n",
       "      <th>fan</th>\n",
       "      <th>gender</th>\n",
       "      <th>age_group</th>\n",
       "      <th>income</th>\n",
       "      <th>loc</th>\n",
       "      <th>yoda</th>\n",
       "      <th>princess_leia_organa</th>\n",
       "    </tr>\n",
       "  </thead>\n",
       "  <tbody>\n",
       "    <tr>\n",
       "      <th>0</th>\n",
       "      <td>3292879998</td>\n",
       "      <td>да</td>\n",
       "      <td>да</td>\n",
       "      <td>М</td>\n",
       "      <td>18-29</td>\n",
       "      <td>NaN</td>\n",
       "      <td>Южно-Атлантический</td>\n",
       "      <td>очень нравится</td>\n",
       "      <td>очень нравится</td>\n",
       "    </tr>\n",
       "    <tr>\n",
       "      <th>1</th>\n",
       "      <td>3292879538</td>\n",
       "      <td>нет</td>\n",
       "      <td>NaN</td>\n",
       "      <td>М</td>\n",
       "      <td>18-29</td>\n",
       "      <td>0 - 24.999</td>\n",
       "      <td>Юго-Западный центральный</td>\n",
       "      <td>NaN</td>\n",
       "      <td>NaN</td>\n",
       "    </tr>\n",
       "    <tr>\n",
       "      <th>2</th>\n",
       "      <td>3292765271</td>\n",
       "      <td>да</td>\n",
       "      <td>нет</td>\n",
       "      <td>М</td>\n",
       "      <td>18-29</td>\n",
       "      <td>0 - 24.999</td>\n",
       "      <td>Северо-Западный центральный</td>\n",
       "      <td>не знаю такого персонажа</td>\n",
       "      <td>нравится</td>\n",
       "    </tr>\n",
       "    <tr>\n",
       "      <th>3</th>\n",
       "      <td>3292763116</td>\n",
       "      <td>да</td>\n",
       "      <td>да</td>\n",
       "      <td>М</td>\n",
       "      <td>18-29</td>\n",
       "      <td>100.000 - 149.999</td>\n",
       "      <td>Северо-Западный центральный</td>\n",
       "      <td>очень нравится</td>\n",
       "      <td>очень нравится</td>\n",
       "    </tr>\n",
       "    <tr>\n",
       "      <th>4</th>\n",
       "      <td>3292731220</td>\n",
       "      <td>да</td>\n",
       "      <td>да</td>\n",
       "      <td>М</td>\n",
       "      <td>18-29</td>\n",
       "      <td>100.000 - 149.999</td>\n",
       "      <td>Северо-Западный центральный</td>\n",
       "      <td>нравится</td>\n",
       "      <td>нравится</td>\n",
       "    </tr>\n",
       "  </tbody>\n",
       "</table>\n",
       "</div>"
      ],
      "text/plain": [
       "   respondentID seen  fan gender age_group             income  \\\n",
       "0    3292879998   да   да      М     18-29                NaN   \n",
       "1    3292879538  нет  NaN      М     18-29         0 - 24.999   \n",
       "2    3292765271   да  нет      М     18-29         0 - 24.999   \n",
       "3    3292763116   да   да      М     18-29  100.000 - 149.999   \n",
       "4    3292731220   да   да      М     18-29  100.000 - 149.999   \n",
       "\n",
       "                           loc                      yoda princess_leia_organa  \n",
       "0           Южно-Атлантический            очень нравится       очень нравится  \n",
       "1     Юго-Западный центральный                       NaN                  NaN  \n",
       "2  Северо-Западный центральный  не знаю такого персонажа             нравится  \n",
       "3  Северо-Западный центральный            очень нравится       очень нравится  \n",
       "4  Северо-Западный центральный                  нравится             нравится  "
      ]
     },
     "execution_count": 3,
     "metadata": {},
     "output_type": "execute_result"
    }
   ],
   "source": [
    "starwars = pd.read_csv('test_1.csv', sep=';')\n",
    "starwars.head()"
   ]
  },
  {
   "cell_type": "markdown",
   "id": "9629491a",
   "metadata": {},
   "source": [
    "### 1. Укажите, верно ли следующее утверждение: мужчины 18-29 лет, которые не являются фанатами серии, чаще всего проживают в Тихоокеанском регионе."
   ]
  },
  {
   "cell_type": "code",
   "execution_count": 13,
   "id": "30d5ed38",
   "metadata": {},
   "outputs": [
    {
     "name": "stdout",
     "output_type": "stream",
     "text": [
      "[ True]\n"
     ]
    }
   ],
   "source": [
    "print(starwars[(starwars['fan'] == 'нет') & (starwars['age_group'] == '18-29')]['loc'].value_counts().head(1).index == 'Тихоокеанский')"
   ]
  },
  {
   "cell_type": "markdown",
   "id": "9a2e617a",
   "metadata": {},
   "source": [
    "### 2. Какой регион проживания реже всего встречается в данных? Выберите один верный ответ."
   ]
  },
  {
   "cell_type": "code",
   "execution_count": 35,
   "id": "a8736491",
   "metadata": {},
   "outputs": [
    {
     "name": "stdout",
     "output_type": "stream",
     "text": [
      "Северо-Восточный центральный    181\n",
      "Тихоокеанский                   175\n",
      "Южно-Атлантический              170\n",
      "Средне-Атлантический            122\n",
      "Юго-Западный центральный        110\n",
      "Северо-Западный центральный      93\n",
      "Горный                           79\n",
      "Новая Англия                     75\n",
      "Юго-Восточный центральный        38\n",
      "Name: loc, dtype: int64\n"
     ]
    }
   ],
   "source": [
    "print(starwars['loc'].value_counts())"
   ]
  },
  {
   "cell_type": "markdown",
   "id": "9d254935",
   "metadata": {},
   "source": [
    "### 3. Сколько респондентов не ответили на вопрос, нравится ли им Йода? Выберите один верный ответ."
   ]
  },
  {
   "cell_type": "code",
   "execution_count": 112,
   "id": "b2dbb951",
   "metadata": {},
   "outputs": [
    {
     "data": {
      "text/plain": [
       "array([360], dtype=int64)"
      ]
     },
     "execution_count": 112,
     "metadata": {},
     "output_type": "execute_result"
    }
   ],
   "source": [
    "yoda_fans = starwars['yoda'].isna().value_counts().to_frame()\n",
    "yoda_fans.loc[True, :].values"
   ]
  },
  {
   "cell_type": "markdown",
   "id": "307b78cc",
   "metadata": {},
   "source": [
    "### 4. Скольким респондентам из Новой Англии очень нравится принцесса Лея Органа? Выберите один верный ответ."
   ]
  },
  {
   "cell_type": "code",
   "execution_count": 33,
   "id": "5a4418e0",
   "metadata": {},
   "outputs": [
    {
     "name": "stdout",
     "output_type": "stream",
     "text": [
      "39\n"
     ]
    }
   ],
   "source": [
    "print(starwars[(starwars['princess_leia_organa'] == 'очень нравится') & (starwars['loc'] == 'Новая Англия')].shape[0]) "
   ]
  }
 ],
 "metadata": {
  "kernelspec": {
   "display_name": "Python 3 (ipykernel)",
   "language": "python",
   "name": "python3"
  },
  "language_info": {
   "codemirror_mode": {
    "name": "ipython",
    "version": 3
   },
   "file_extension": ".py",
   "mimetype": "text/x-python",
   "name": "python",
   "nbconvert_exporter": "python",
   "pygments_lexer": "ipython3",
   "version": "3.10.4"
  }
 },
 "nbformat": 4,
 "nbformat_minor": 5
}
