{
 "cells": [
  {
   "cell_type": "markdown",
   "id": "87a70b20",
   "metadata": {},
   "source": [
    "## TEST 2. DATA TYPES. CREATING NEW VARIABLES."
   ]
  },
  {
   "cell_type": "code",
   "execution_count": null,
   "id": "6ff448d5",
   "metadata": {},
   "outputs": [],
   "source": [
    "import pandas as pd"
   ]
  },
  {
   "cell_type": "code",
   "execution_count": 5,
   "id": "bae2812b",
   "metadata": {},
   "outputs": [
    {
     "data": {
      "text/html": [
       "<div>\n",
       "<style scoped>\n",
       "    .dataframe tbody tr th:only-of-type {\n",
       "        vertical-align: middle;\n",
       "    }\n",
       "\n",
       "    .dataframe tbody tr th {\n",
       "        vertical-align: top;\n",
       "    }\n",
       "\n",
       "    .dataframe thead th {\n",
       "        text-align: right;\n",
       "    }\n",
       "</style>\n",
       "<table border=\"1\" class=\"dataframe\">\n",
       "  <thead>\n",
       "    <tr style=\"text-align: right;\">\n",
       "      <th></th>\n",
       "      <th>respondentID</th>\n",
       "      <th>seen</th>\n",
       "      <th>fan</th>\n",
       "      <th>gender</th>\n",
       "      <th>age_group</th>\n",
       "      <th>income</th>\n",
       "      <th>loc</th>\n",
       "      <th>yoda</th>\n",
       "      <th>princess_leia_organa</th>\n",
       "    </tr>\n",
       "  </thead>\n",
       "  <tbody>\n",
       "    <tr>\n",
       "      <th>0</th>\n",
       "      <td>3292879998</td>\n",
       "      <td>да</td>\n",
       "      <td>да</td>\n",
       "      <td>М</td>\n",
       "      <td>18-29</td>\n",
       "      <td>NaN</td>\n",
       "      <td>Южно-Атлантический</td>\n",
       "      <td>очень нравится</td>\n",
       "      <td>очень нравится</td>\n",
       "    </tr>\n",
       "    <tr>\n",
       "      <th>1</th>\n",
       "      <td>3292879538</td>\n",
       "      <td>нет</td>\n",
       "      <td>NaN</td>\n",
       "      <td>М</td>\n",
       "      <td>18-29</td>\n",
       "      <td>0 - 24.999</td>\n",
       "      <td>Юго-Западный центральный</td>\n",
       "      <td>NaN</td>\n",
       "      <td>NaN</td>\n",
       "    </tr>\n",
       "    <tr>\n",
       "      <th>2</th>\n",
       "      <td>3292765271</td>\n",
       "      <td>да</td>\n",
       "      <td>нет</td>\n",
       "      <td>М</td>\n",
       "      <td>18-29</td>\n",
       "      <td>0 - 24.999</td>\n",
       "      <td>Северо-Западный центральный</td>\n",
       "      <td>не знаю такого персонажа</td>\n",
       "      <td>нравится</td>\n",
       "    </tr>\n",
       "    <tr>\n",
       "      <th>3</th>\n",
       "      <td>3292763116</td>\n",
       "      <td>да</td>\n",
       "      <td>да</td>\n",
       "      <td>М</td>\n",
       "      <td>18-29</td>\n",
       "      <td>100.000 - 149.999</td>\n",
       "      <td>Северо-Западный центральный</td>\n",
       "      <td>очень нравится</td>\n",
       "      <td>очень нравится</td>\n",
       "    </tr>\n",
       "    <tr>\n",
       "      <th>4</th>\n",
       "      <td>3292731220</td>\n",
       "      <td>да</td>\n",
       "      <td>да</td>\n",
       "      <td>М</td>\n",
       "      <td>18-29</td>\n",
       "      <td>100.000 - 149.999</td>\n",
       "      <td>Северо-Западный центральный</td>\n",
       "      <td>нравится</td>\n",
       "      <td>нравится</td>\n",
       "    </tr>\n",
       "  </tbody>\n",
       "</table>\n",
       "</div>"
      ],
      "text/plain": [
       "   respondentID seen  fan gender age_group             income  \\\n",
       "0    3292879998   да   да      М     18-29                NaN   \n",
       "1    3292879538  нет  NaN      М     18-29         0 - 24.999   \n",
       "2    3292765271   да  нет      М     18-29         0 - 24.999   \n",
       "3    3292763116   да   да      М     18-29  100.000 - 149.999   \n",
       "4    3292731220   да   да      М     18-29  100.000 - 149.999   \n",
       "\n",
       "                           loc                      yoda princess_leia_organa  \n",
       "0           Южно-Атлантический            очень нравится       очень нравится  \n",
       "1     Юго-Западный центральный                       NaN                  NaN  \n",
       "2  Северо-Западный центральный  не знаю такого персонажа             нравится  \n",
       "3  Северо-Западный центральный            очень нравится       очень нравится  \n",
       "4  Северо-Западный центральный                  нравится             нравится  "
      ]
     },
     "execution_count": 5,
     "metadata": {},
     "output_type": "execute_result"
    }
   ],
   "source": [
    "starwars = pd.read_csv('test_2.csv', sep=';')\n",
    "starwars.head()"
   ]
  },
  {
   "cell_type": "markdown",
   "id": "d8a86426",
   "metadata": {},
   "source": [
    "### 1. Укажите, верно ли следующее утверждение: все женщины старше 60 лет, входящие в категорию с наивысшим доходом и являющиеся фанатами серии фильмов, проживают в одном регионе. "
   ]
  },
  {
   "cell_type": "code",
   "execution_count": 7,
   "id": "49765964",
   "metadata": {},
   "outputs": [
    {
     "name": "stdout",
     "output_type": "stream",
     "text": [
      "False\n"
     ]
    }
   ],
   "source": [
    "print(len(starwars[(starwars['gender'] == 'Ж') & \n",
    "                   (starwars['age_group'] == '> 60') & (starwars['income'] == '150.000+') & \n",
    "                   (starwars['fan'] == 'да')]['loc'].unique()) == 1)"
   ]
  },
  {
   "cell_type": "markdown",
   "id": "461f3891",
   "metadata": {},
   "source": [
    "### 2. Какой регион проживания чаще всего встречается в данных? Выберите один верный ответ."
   ]
  },
  {
   "cell_type": "code",
   "execution_count": 8,
   "id": "102023bf",
   "metadata": {},
   "outputs": [
    {
     "name": "stdout",
     "output_type": "stream",
     "text": [
      "Северо-Восточный центральный\n"
     ]
    }
   ],
   "source": [
    "print(starwars['loc'].value_counts().index[0])"
   ]
  },
  {
   "cell_type": "markdown",
   "id": "25eccdd3",
   "metadata": {},
   "source": [
    "### 3. Сколько респондентов не назвали свой доход? Выберите один верный ответ. "
   ]
  },
  {
   "cell_type": "code",
   "execution_count": 9,
   "id": "2aa825cc",
   "metadata": {},
   "outputs": [
    {
     "name": "stdout",
     "output_type": "stream",
     "text": [
      "328\n"
     ]
    }
   ],
   "source": [
    "print(starwars['income'].isna().sum())"
   ]
  },
  {
   "cell_type": "markdown",
   "id": "fef30e9b",
   "metadata": {},
   "source": [
    "### 4. Скольким респондентам одновременно очень нравятся Йода и принцесса Лея Органа? Выберите один верный ответ. "
   ]
  },
  {
   "cell_type": "code",
   "execution_count": 10,
   "id": "0ccf96ef",
   "metadata": {},
   "outputs": [
    {
     "name": "stdout",
     "output_type": "stream",
     "text": [
      "462\n"
     ]
    }
   ],
   "source": [
    "print(starwars[(starwars['princess_leia_organa'] == 'очень нравится') & \n",
    "               (starwars['yoda'] == 'очень нравится')].shape[0])"
   ]
  },
  {
   "cell_type": "markdown",
   "id": "74145d47",
   "metadata": {},
   "source": [
    "### 5. Сколько респондентов не видели ни одного фильма серии, но считают себя ее фанатами? Введите ответ в виде целого числа. "
   ]
  },
  {
   "cell_type": "code",
   "execution_count": 11,
   "id": "24509447",
   "metadata": {},
   "outputs": [
    {
     "name": "stdout",
     "output_type": "stream",
     "text": [
      "0\n"
     ]
    }
   ],
   "source": [
    "print(starwars[(starwars['seen'] == 'нет') & (starwars['fan'] == 'да')].shape[0])"
   ]
  },
  {
   "cell_type": "markdown",
   "id": "6b432441",
   "metadata": {},
   "source": [
    "### 6. Сколько респондентов не ответили ни на один вопрос? Введите ответ в виде целого числа. "
   ]
  },
  {
   "cell_type": "code",
   "execution_count": 12,
   "id": "6ebd8d9f",
   "metadata": {},
   "outputs": [
    {
     "name": "stdout",
     "output_type": "stream",
     "text": [
      "0\n"
     ]
    }
   ],
   "source": [
    "print(starwars[starwars.iloc[:, 1:].isna().sum(axis=1) == 8].shape[0])"
   ]
  },
  {
   "cell_type": "markdown",
   "id": "0dcd84e8",
   "metadata": {},
   "source": [
    "### 7. Посмотрите на мужчин, проживающих в горном районе. В ответ запишите ID респондента, входящего в категорию с наивысшим доходом при заданных условиях."
   ]
  },
  {
   "cell_type": "code",
   "execution_count": 13,
   "id": "7abfa222",
   "metadata": {},
   "outputs": [
    {
     "name": "stdout",
     "output_type": "stream",
     "text": [
      "169    3291077381\n",
      "340    3290740448\n",
      "545    3290292697\n",
      "671    3289963393\n",
      "737    3289831274\n",
      "Name: respondentID, dtype: int64\n"
     ]
    }
   ],
   "source": [
    "print(starwars[(starwars['loc'] == 'Горный') & (starwars['income'] == '150.000+')]['respondentID'])"
   ]
  },
  {
   "cell_type": "markdown",
   "id": "8eff5421",
   "metadata": {},
   "source": [
    "### 8. Укажите, верно ли следующее утверждение: фанатов серии фильмов в возрастной категории 45-60 меньше, чем не-фанатов в возрастной категории 18-29."
   ]
  },
  {
   "cell_type": "code",
   "execution_count": 14,
   "id": "0bc8dce4",
   "metadata": {},
   "outputs": [
    {
     "name": "stdout",
     "output_type": "stream",
     "text": [
      "False\n"
     ]
    }
   ],
   "source": [
    "print((starwars[(starwars['fan'] == 'да') & \n",
    "                (starwars['age_group'] == '45-60')].shape[0]) < \n",
    "      (starwars[(starwars['fan'] == 'нет') & \n",
    "                (starwars['age_group'] == '18-29')].shape[0]))"
   ]
  },
  {
   "cell_type": "markdown",
   "id": "0cef54f2",
   "metadata": {},
   "source": [
    "### 9. Сколько процентов (от общего числа респондентов) являются фанатами серии фильмов, проживают в Новой Англии и имеют доход 0 - 24.999 долларов? В ответ запишите число (процент от 0 до 100), округлите до целого. "
   ]
  },
  {
   "cell_type": "code",
   "execution_count": 15,
   "id": "1d799e6c",
   "metadata": {},
   "outputs": [
    {
     "name": "stdout",
     "output_type": "stream",
     "text": [
      "1\n"
     ]
    }
   ],
   "source": [
    "fans = starwars[(starwars['loc'] == 'Новая Англия') & \n",
    "                (starwars['income'] == '0 - 24.999') & \n",
    "                (starwars['fan'] == 'да')].shape[0]\n",
    "respondents = starwars.shape[0]\n",
    "print(round((fans*100)/respondents))"
   ]
  }
 ],
 "metadata": {
  "kernelspec": {
   "display_name": "Python 3 (ipykernel)",
   "language": "python",
   "name": "python3"
  },
  "language_info": {
   "codemirror_mode": {
    "name": "ipython",
    "version": 3
   },
   "file_extension": ".py",
   "mimetype": "text/x-python",
   "name": "python",
   "nbconvert_exporter": "python",
   "pygments_lexer": "ipython3",
   "version": "3.10.4"
  }
 },
 "nbformat": 4,
 "nbformat_minor": 5
}
