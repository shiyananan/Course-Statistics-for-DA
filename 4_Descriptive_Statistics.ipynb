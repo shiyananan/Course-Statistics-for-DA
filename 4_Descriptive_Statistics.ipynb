{
 "cells": [
  {
   "cell_type": "markdown",
   "id": "f948a2de",
   "metadata": {},
   "source": [
    "## TEST 4. DESCRIPTIVE STATISTICS. CENTRAL TENDENCY AND DISPERSION. "
   ]
  },
  {
   "cell_type": "code",
   "execution_count": 1,
   "id": "5131c69e",
   "metadata": {},
   "outputs": [],
   "source": [
    "import pandas as pd"
   ]
  },
  {
   "cell_type": "code",
   "execution_count": 2,
   "id": "58087234",
   "metadata": {},
   "outputs": [
    {
     "data": {
      "text/html": [
       "<div>\n",
       "<style scoped>\n",
       "    .dataframe tbody tr th:only-of-type {\n",
       "        vertical-align: middle;\n",
       "    }\n",
       "\n",
       "    .dataframe tbody tr th {\n",
       "        vertical-align: top;\n",
       "    }\n",
       "\n",
       "    .dataframe thead th {\n",
       "        text-align: right;\n",
       "    }\n",
       "</style>\n",
       "<table border=\"1\" class=\"dataframe\">\n",
       "  <thead>\n",
       "    <tr style=\"text-align: right;\">\n",
       "      <th></th>\n",
       "      <th>name</th>\n",
       "      <th>align</th>\n",
       "      <th>eye</th>\n",
       "      <th>hair</th>\n",
       "      <th>sex</th>\n",
       "      <th>appearances</th>\n",
       "      <th>first_appearance</th>\n",
       "    </tr>\n",
       "  </thead>\n",
       "  <tbody>\n",
       "    <tr>\n",
       "      <th>0</th>\n",
       "      <td>Spider-Man (Peter Parker)</td>\n",
       "      <td>Добрый персонаж</td>\n",
       "      <td>Карие глаза</td>\n",
       "      <td>Каштановые волосы</td>\n",
       "      <td>Мужской персонаж</td>\n",
       "      <td>4043.0</td>\n",
       "      <td>1962.0</td>\n",
       "    </tr>\n",
       "    <tr>\n",
       "      <th>1</th>\n",
       "      <td>Captain America (Steven Rogers)</td>\n",
       "      <td>Добрый персонаж</td>\n",
       "      <td>Голубые глаза</td>\n",
       "      <td>Белые волосы</td>\n",
       "      <td>Мужской персонаж</td>\n",
       "      <td>3360.0</td>\n",
       "      <td>1941.0</td>\n",
       "    </tr>\n",
       "    <tr>\n",
       "      <th>2</th>\n",
       "      <td>Wolverine (James \\\"Logan\\\" Howlett)</td>\n",
       "      <td>Нейтральный персонаж</td>\n",
       "      <td>Голубые глаза</td>\n",
       "      <td>Черные волосы</td>\n",
       "      <td>Мужской персонаж</td>\n",
       "      <td>3061.0</td>\n",
       "      <td>1974.0</td>\n",
       "    </tr>\n",
       "    <tr>\n",
       "      <th>3</th>\n",
       "      <td>Iron Man (Anthony \\\"Tony\\\" Stark)</td>\n",
       "      <td>Добрый персонаж</td>\n",
       "      <td>Голубые глаза</td>\n",
       "      <td>Черные волосы</td>\n",
       "      <td>Мужской персонаж</td>\n",
       "      <td>2961.0</td>\n",
       "      <td>1963.0</td>\n",
       "    </tr>\n",
       "    <tr>\n",
       "      <th>4</th>\n",
       "      <td>Thor (Thor Odinson)</td>\n",
       "      <td>Добрый персонаж</td>\n",
       "      <td>Голубые глаза</td>\n",
       "      <td>Русые волосы</td>\n",
       "      <td>Мужской персонаж</td>\n",
       "      <td>2258.0</td>\n",
       "      <td>1950.0</td>\n",
       "    </tr>\n",
       "  </tbody>\n",
       "</table>\n",
       "</div>"
      ],
      "text/plain": [
       "                                  name                 align            eye  \\\n",
       "0            Spider-Man (Peter Parker)       Добрый персонаж    Карие глаза   \n",
       "1      Captain America (Steven Rogers)       Добрый персонаж  Голубые глаза   \n",
       "2  Wolverine (James \\\"Logan\\\" Howlett)  Нейтральный персонаж  Голубые глаза   \n",
       "3    Iron Man (Anthony \\\"Tony\\\" Stark)       Добрый персонаж  Голубые глаза   \n",
       "4                  Thor (Thor Odinson)       Добрый персонаж  Голубые глаза   \n",
       "\n",
       "                hair               sex  appearances  first_appearance  \n",
       "0  Каштановые волосы  Мужской персонаж       4043.0            1962.0  \n",
       "1       Белые волосы  Мужской персонаж       3360.0            1941.0  \n",
       "2      Черные волосы  Мужской персонаж       3061.0            1974.0  \n",
       "3      Черные волосы  Мужской персонаж       2961.0            1963.0  \n",
       "4       Русые волосы  Мужской персонаж       2258.0            1950.0  "
      ]
     },
     "execution_count": 2,
     "metadata": {},
     "output_type": "execute_result"
    }
   ],
   "source": [
    "marvel = pd.read_csv('test_4.csv', sep=';')\n",
    "marvel.head()"
   ]
  },
  {
   "cell_type": "markdown",
   "id": "5af88c0c",
   "metadata": {},
   "source": [
    "### 1. Какова мода по переменной eye? Выберите один верный ответ. "
   ]
  },
  {
   "cell_type": "code",
   "execution_count": 3,
   "id": "c2ff7de2",
   "metadata": {},
   "outputs": [
    {
     "name": "stdout",
     "output_type": "stream",
     "text": [
      "0    Голубые глаза\n",
      "Name: eye, dtype: object\n"
     ]
    }
   ],
   "source": [
    "print(marvel['eye'].mode())"
   ]
  },
  {
   "cell_type": "markdown",
   "id": "c823e270",
   "metadata": {},
   "source": [
    "### 2. Укажите, верно ли следующее утверждение: мода по переменной hair для женских персонажей равна моде по переменной hair для мужских персонажей."
   ]
  },
  {
   "cell_type": "code",
   "execution_count": 4,
   "id": "7cb3f87a",
   "metadata": {},
   "outputs": [
    {
     "name": "stdout",
     "output_type": "stream",
     "text": [
      "0    True\n",
      "Name: hair, dtype: bool\n"
     ]
    }
   ],
   "source": [
    "print(marvel.groupby('sex').get_group('Мужской персонаж')['hair'].mode() == \n",
    "      marvel.groupby('sex').get_group('Женский персонаж')['hair'].mode())"
   ]
  },
  {
   "cell_type": "markdown",
   "id": "b404f839",
   "metadata": {},
   "source": [
    "### 3. Выберите только злых персонажей и определите медиану по переменной appearances. Введите ответ в виде целого числа. "
   ]
  },
  {
   "cell_type": "code",
   "execution_count": 5,
   "id": "e1581187",
   "metadata": {},
   "outputs": [
    {
     "name": "stdout",
     "output_type": "stream",
     "text": [
      "3\n"
     ]
    }
   ],
   "source": [
    "print(int(marvel.groupby('align').get_group('Злой персонаж')['appearances'].median()))"
   ]
  },
  {
   "cell_type": "markdown",
   "id": "2529654d",
   "metadata": {},
   "source": [
    "### 4. Найдите дисперсию по переменной appearances. Помните, что мы работаем с генеральной совокупностью. В ответ запишите число, округлите до целого. "
   ]
  },
  {
   "cell_type": "code",
   "execution_count": 6,
   "id": "4ac9889c",
   "metadata": {},
   "outputs": [
    {
     "name": "stdout",
     "output_type": "stream",
     "text": [
      "9287\n"
     ]
    }
   ],
   "source": [
    "print(round(marvel['appearances'].var(ddof=0)))"
   ]
  },
  {
   "cell_type": "markdown",
   "id": "4d751ae4",
   "metadata": {},
   "source": [
    "### 5. Найдите моду по переменной first_appearance. Введите ответ в виде целого числа. "
   ]
  },
  {
   "cell_type": "code",
   "execution_count": 7,
   "id": "8a29ee8e",
   "metadata": {},
   "outputs": [
    {
     "name": "stdout",
     "output_type": "stream",
     "text": [
      "1993\n"
     ]
    }
   ],
   "source": [
    "print(int(marvel['first_appearance'].mode()))"
   ]
  },
  {
   "cell_type": "markdown",
   "id": "6aed1e13",
   "metadata": {},
   "source": [
    "### 6. Укажите, верно ли следующее утверждение: если убрать первые пятьсот наблюдений в наших данных, то мода по переменной eye не изменится."
   ]
  },
  {
   "cell_type": "code",
   "execution_count": 8,
   "id": "19981a16",
   "metadata": {},
   "outputs": [
    {
     "name": "stdout",
     "output_type": "stream",
     "text": [
      "0    False\n",
      "Name: eye, dtype: bool\n"
     ]
    }
   ],
   "source": [
    "print(marvel['eye'].mode() == marvel.iloc[501:]['eye'].mode())"
   ]
  },
  {
   "cell_type": "markdown",
   "id": "c4e4aafd",
   "metadata": {},
   "source": [
    "### 7. Определите моду по переменной hair, затем выберите только тех персонажей, цвет волос которых соответствует найденной моде. По имеющемуся подмассиву данных по переменной appearances рассчитайте стандартное отклонение. Помните, что мы работаем с генеральной совокупностью. В ответ запишите число, округлите до целого. "
   ]
  },
  {
   "cell_type": "code",
   "execution_count": 9,
   "id": "8e5c816c",
   "metadata": {},
   "outputs": [
    {
     "name": "stdout",
     "output_type": "stream",
     "text": [
      "94\n"
     ]
    }
   ],
   "source": [
    "hair_mode = marvel['hair'].mode()\n",
    "print(round(marvel.groupby('hair').get_group('Черные волосы')['appearances'].std(ddof=0)))"
   ]
  }
 ],
 "metadata": {
  "kernelspec": {
   "display_name": "Python 3 (ipykernel)",
   "language": "python",
   "name": "python3"
  },
  "language_info": {
   "codemirror_mode": {
    "name": "ipython",
    "version": 3
   },
   "file_extension": ".py",
   "mimetype": "text/x-python",
   "name": "python",
   "nbconvert_exporter": "python",
   "pygments_lexer": "ipython3",
   "version": "3.10.4"
  }
 },
 "nbformat": 4,
 "nbformat_minor": 5
}
