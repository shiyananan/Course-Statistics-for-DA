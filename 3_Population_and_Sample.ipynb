{
 "cells": [
  {
   "cell_type": "markdown",
   "id": "30c64345",
   "metadata": {},
   "source": [
    "## TEST 3. POPULATION AND SAMPLE. FREQUENCY TABLES AND FREQUENCY DISTRIBUTIONS."
   ]
  },
  {
   "cell_type": "code",
   "execution_count": 1,
   "id": "44dbb8f9",
   "metadata": {},
   "outputs": [],
   "source": [
    "import pandas as pd"
   ]
  },
  {
   "cell_type": "code",
   "execution_count": 3,
   "id": "aa44aaf0",
   "metadata": {},
   "outputs": [
    {
     "data": {
      "text/html": [
       "<div>\n",
       "<style scoped>\n",
       "    .dataframe tbody tr th:only-of-type {\n",
       "        vertical-align: middle;\n",
       "    }\n",
       "\n",
       "    .dataframe tbody tr th {\n",
       "        vertical-align: top;\n",
       "    }\n",
       "\n",
       "    .dataframe thead th {\n",
       "        text-align: right;\n",
       "    }\n",
       "</style>\n",
       "<table border=\"1\" class=\"dataframe\">\n",
       "  <thead>\n",
       "    <tr style=\"text-align: right;\">\n",
       "      <th></th>\n",
       "      <th>name</th>\n",
       "      <th>align</th>\n",
       "      <th>eye</th>\n",
       "      <th>hair</th>\n",
       "      <th>sex</th>\n",
       "      <th>appearances</th>\n",
       "      <th>first_appearance</th>\n",
       "    </tr>\n",
       "  </thead>\n",
       "  <tbody>\n",
       "    <tr>\n",
       "      <th>0</th>\n",
       "      <td>Spider-Man (Peter Parker)</td>\n",
       "      <td>Добрый персонаж</td>\n",
       "      <td>Карие глаза</td>\n",
       "      <td>Каштановые волосы</td>\n",
       "      <td>Мужской персонаж</td>\n",
       "      <td>4043.0</td>\n",
       "      <td>1962.0</td>\n",
       "    </tr>\n",
       "    <tr>\n",
       "      <th>1</th>\n",
       "      <td>Captain America (Steven Rogers)</td>\n",
       "      <td>Добрый персонаж</td>\n",
       "      <td>Голубые глаза</td>\n",
       "      <td>Белые волосы</td>\n",
       "      <td>Мужской персонаж</td>\n",
       "      <td>3360.0</td>\n",
       "      <td>1941.0</td>\n",
       "    </tr>\n",
       "    <tr>\n",
       "      <th>2</th>\n",
       "      <td>Wolverine (James \\\"Logan\\\" Howlett)</td>\n",
       "      <td>Нейтральный персонаж</td>\n",
       "      <td>Голубые глаза</td>\n",
       "      <td>Черные волосы</td>\n",
       "      <td>Мужской персонаж</td>\n",
       "      <td>3061.0</td>\n",
       "      <td>1974.0</td>\n",
       "    </tr>\n",
       "    <tr>\n",
       "      <th>3</th>\n",
       "      <td>Iron Man (Anthony \\\"Tony\\\" Stark)</td>\n",
       "      <td>Добрый персонаж</td>\n",
       "      <td>Голубые глаза</td>\n",
       "      <td>Черные волосы</td>\n",
       "      <td>Мужской персонаж</td>\n",
       "      <td>2961.0</td>\n",
       "      <td>1963.0</td>\n",
       "    </tr>\n",
       "    <tr>\n",
       "      <th>4</th>\n",
       "      <td>Thor (Thor Odinson)</td>\n",
       "      <td>Добрый персонаж</td>\n",
       "      <td>Голубые глаза</td>\n",
       "      <td>Русые волосы</td>\n",
       "      <td>Мужской персонаж</td>\n",
       "      <td>2258.0</td>\n",
       "      <td>1950.0</td>\n",
       "    </tr>\n",
       "  </tbody>\n",
       "</table>\n",
       "</div>"
      ],
      "text/plain": [
       "                                  name                 align            eye  \\\n",
       "0            Spider-Man (Peter Parker)       Добрый персонаж    Карие глаза   \n",
       "1      Captain America (Steven Rogers)       Добрый персонаж  Голубые глаза   \n",
       "2  Wolverine (James \\\"Logan\\\" Howlett)  Нейтральный персонаж  Голубые глаза   \n",
       "3    Iron Man (Anthony \\\"Tony\\\" Stark)       Добрый персонаж  Голубые глаза   \n",
       "4                  Thor (Thor Odinson)       Добрый персонаж  Голубые глаза   \n",
       "\n",
       "                hair               sex  appearances  first_appearance  \n",
       "0  Каштановые волосы  Мужской персонаж       4043.0            1962.0  \n",
       "1       Белые волосы  Мужской персонаж       3360.0            1941.0  \n",
       "2      Черные волосы  Мужской персонаж       3061.0            1974.0  \n",
       "3      Черные волосы  Мужской персонаж       2961.0            1963.0  \n",
       "4       Русые волосы  Мужской персонаж       2258.0            1950.0  "
      ]
     },
     "execution_count": 3,
     "metadata": {},
     "output_type": "execute_result"
    }
   ],
   "source": [
    "marvel = pd.read_csv('test_3.csv', sep=';')\n",
    "marvel.head()"
   ]
  },
  {
   "cell_type": "markdown",
   "id": "9eaa7e00",
   "metadata": {},
   "source": [
    "### 1. По переменной align была построена частотная таблица. Укажите, какие ошибки были допущены в таблице. Чтобы проверить ее, постройте таблицу сами, используя удобную вам программу. Выберите один верный ответ."
   ]
  },
  {
   "cell_type": "code",
   "execution_count": 4,
   "id": "83b19fa7",
   "metadata": {},
   "outputs": [
    {
     "name": "stdout",
     "output_type": "stream",
     "text": [
      "Злой персонаж           6720\n",
      "Добрый персонаж         4636\n",
      "Нейтральный персонаж    2208\n",
      "Name: align, dtype: int64\n"
     ]
    }
   ],
   "source": [
    "print(marvel['align'].value_counts())"
   ]
  },
  {
   "cell_type": "markdown",
   "id": "544407d3",
   "metadata": {},
   "source": [
    "### 2. Определите три наиболее часто встречающих цвета глаз персонажей, выберите из данных только их и заполните частотную таблицу по переменной eye. В вариантах ответов представлены числа, которые могут быть записаны в таблицу. Выберите один верный ответ. "
   ]
  },
  {
   "cell_type": "code",
   "execution_count": 5,
   "id": "2a3be961",
   "metadata": {},
   "outputs": [
    {
     "name": "stdout",
     "output_type": "stream",
     "text": [
      "[1962, 1924, 613]\n"
     ]
    }
   ],
   "source": [
    "print(marvel['eye'].value_counts().nlargest(3).values.tolist())"
   ]
  },
  {
   "cell_type": "markdown",
   "id": "bd30b49c",
   "metadata": {},
   "source": [
    "### 3. Укажите, верно ли следующее утверждение: у мужских персонажей чаще всего встречаются темно-карие глаза."
   ]
  },
  {
   "cell_type": "code",
   "execution_count": 6,
   "id": "c7dedaaf",
   "metadata": {},
   "outputs": [
    {
     "name": "stdout",
     "output_type": "stream",
     "text": [
      "[ True]\n"
     ]
    }
   ],
   "source": [
    "print(marvel.groupby('sex')['eye'].value_counts().loc['Мужской персонаж'].nlargest(1).index == 'Темно-карие глаза')"
   ]
  },
  {
   "cell_type": "markdown",
   "id": "d04cfd22",
   "metadata": {},
   "source": [
    "### 4. Постройте частотную таблицу для персонажей женского пола по переменной eye. У скольких из них золотые глаза? Введите ответ в виде целого числа."
   ]
  },
  {
   "cell_type": "code",
   "execution_count": 8,
   "id": "ebf1583f",
   "metadata": {},
   "outputs": [
    {
     "name": "stdout",
     "output_type": "stream",
     "text": [
      "3\n"
     ]
    }
   ],
   "source": [
    "print(marvel.groupby('sex')['eye'].value_counts().loc['Женский персонаж'].loc['Золотые глаза'])"
   ]
  },
  {
   "cell_type": "markdown",
   "id": "d23ccb60",
   "metadata": {},
   "source": [
    "### 5. Какое значение находится в колонке appearances для доброго персонажа с пурпурными глазами? Введите ответ в виде целого числа."
   ]
  },
  {
   "cell_type": "code",
   "execution_count": 9,
   "id": "4e0d890e",
   "metadata": {},
   "outputs": [
    {
     "name": "stdout",
     "output_type": "stream",
     "text": [
      "[21.]\n"
     ]
    }
   ],
   "source": [
    "print(marvel[(marvel['eye'] == 'Пурпурные глаза') & (marvel['align'] == 'Добрый персонаж')]['appearances'].values)"
   ]
  },
  {
   "cell_type": "markdown",
   "id": "f1afca63",
   "metadata": {},
   "source": [
    "### 6. Укажите, верно ли следующее утверждение: больше всего персонажей в первый раз появилось в 1993 году. "
   ]
  },
  {
   "cell_type": "code",
   "execution_count": 10,
   "id": "b36e1eb2",
   "metadata": {},
   "outputs": [
    {
     "name": "stdout",
     "output_type": "stream",
     "text": [
      "[ True]\n"
     ]
    }
   ],
   "source": [
    "print(marvel.groupby('first_appearance')['name'].size().nlargest(1).index == 1993)"
   ]
  },
  {
   "cell_type": "markdown",
   "id": "e046e2e0",
   "metadata": {},
   "source": [
    "### 7. Сколько процентов (от общего числа персонажей) составляют мужские персонажи, которые появлялись больше 100 раз? В ответ запишите число (процент от 0 до 100), округлите до целого."
   ]
  },
  {
   "cell_type": "code",
   "execution_count": 12,
   "id": "587547a5",
   "metadata": {},
   "outputs": [
    {
     "name": "stdout",
     "output_type": "stream",
     "text": [
      "2\n"
     ]
    }
   ],
   "source": [
    "total_characters = marvel['name'].shape[0]\n",
    "male = marvel[(marvel['appearances'] > 100) & (marvel['sex'] == 'Мужской персонаж')]['appearances'].shape[0]\n",
    "print(round((male/total_characters)*100))"
   ]
  }
 ],
 "metadata": {
  "kernelspec": {
   "display_name": "Python 3 (ipykernel)",
   "language": "python",
   "name": "python3"
  },
  "language_info": {
   "codemirror_mode": {
    "name": "ipython",
    "version": 3
   },
   "file_extension": ".py",
   "mimetype": "text/x-python",
   "name": "python",
   "nbconvert_exporter": "python",
   "pygments_lexer": "ipython3",
   "version": "3.10.4"
  }
 },
 "nbformat": 4,
 "nbformat_minor": 5
}
